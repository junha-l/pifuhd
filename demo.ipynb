{
 "cells": [
  {
   "cell_type": "markdown",
   "metadata": {},
   "source": [
    "# PIFuHD: Hands-on Practice\n",
    "\n",
    "\n",
    "#### reference\n",
    "- Saito, Shunsuke, et al. \"Pifuhd: Multi-level pixel-aligned implicit function for high-resolution 3d human digitization.\" Proceedings of the IEEE/CVF Conference on Computer Vision and Pattern Recognition. 2020.\n",
    "- https://github.com/facebookresearch/pifuhd"
   ]
  },
  {
   "cell_type": "code",
   "execution_count": null,
   "metadata": {},
   "outputs": [],
   "source": [
    "%matplotlib inline\n",
    "from IPython.display import Image\n",
    "Image('data/pifuhd_overview.png')"
   ]
  },
  {
   "cell_type": "code",
   "execution_count": null,
   "metadata": {},
   "outputs": [],
   "source": [
    "Image('data/lowres.png')"
   ]
  },
  {
   "cell_type": "code",
   "execution_count": null,
   "metadata": {},
   "outputs": [],
   "source": [
    "Image('data/highres.png')"
   ]
  },
  {
   "cell_type": "markdown",
   "metadata": {},
   "source": [
    "## Dataset"
   ]
  },
  {
   "cell_type": "code",
   "execution_count": null,
   "metadata": {},
   "outputs": [],
   "source": [
    "import matplotlib.pyplot as plt\n",
    "import os\n",
    "\n",
    "input_path = \"./sample_images\"\n",
    "img_path = os.path.join(input_path, \"test.png\")\n",
    "\n",
    "img = plt.imread(img_path)\n",
    "plt.imshow(img)"
   ]
  },
  {
   "cell_type": "markdown",
   "metadata": {},
   "source": [
    "## Overall Pipeline"
   ]
  },
  {
   "cell_type": "code",
   "execution_count": null,
   "metadata": {},
   "outputs": [],
   "source": [
    "import sys\n",
    "import os\n",
    "import torch\n",
    "from tqdm import tqdm\n",
    "\n",
    "from lib.data import EvalWPoseDataset\n",
    "from lib.model import PIFuCoarse, PIFuFine\n",
    "from lib.mesh_util import save_obj_mesh, reconstruction\n",
    "\n",
    "def run_pifuhd(opt):\n",
    "    cuda = torch.device(\"cuda:%d\" % opt.gpu_id if torch.cuda.is_available() else \"cpu\")\n",
    "\n",
    "    # Load checkpoint\n",
    "    state_dict_path = opt.load_netMR_checkpoint_path\n",
    "\n",
    "    state_dict = None\n",
    "    if state_dict_path is not None and os.path.exists(state_dict_path):\n",
    "        print(\"Resuming from \", state_dict_path)\n",
    "        state_dict = torch.load(state_dict_path, map_location=cuda)\n",
    "        print(\"Warning: opt is overwritten.\")\n",
    "        dataroot = opt.dataroot\n",
    "        resolution = opt.resolution\n",
    "        results_path = opt.results_path\n",
    "        loadSize = opt.loadSize\n",
    "\n",
    "        opt = state_dict[\"opt\"]\n",
    "        opt.dataroot = dataroot\n",
    "        opt.resolution = resolution\n",
    "        opt.results_path = results_path\n",
    "        opt.loadSize = loadSize\n",
    "    else:\n",
    "        raise Exception(\"failed loading state dict!\", state_dict_path)\n",
    "\n",
    "    ## Prepare dataset\n",
    "    test_dataset = EvalWPoseDataset(opt)\n",
    "    print(\"test data size: \", len(test_dataset))\n",
    "    projection_mode = test_dataset.projection_mode\n",
    "    \n",
    "    ## Prepare model\n",
    "    opt_netG = state_dict[\"opt_netG\"]\n",
    "    net_coarse = PIFuCoarse(opt_netG, projection_mode).to(device=cuda)\n",
    "    net_fine = PIFuFine(opt, net_coarse, projection_mode).to(device=cuda)\n",
    "\n",
    "    def set_eval():\n",
    "        net_coarse.eval()\n",
    "        net_fine.eval()\n",
    "\n",
    "    ## load checkpoints\n",
    "    net_fine.load_state_dict(state_dict[\"model_state_dict\"])\n",
    "\n",
    "    os.makedirs(opt.checkpoints_path, exist_ok=True)\n",
    "    os.makedirs(opt.results_path, exist_ok=True)\n",
    "    os.makedirs(\"%s/%s/recon\" % (opt.results_path, opt.name), exist_ok=True)\n",
    "\n",
    "    start_id, end_id = 0, len(test_dataset)\n",
    "\n",
    "    ## inference\n",
    "    with torch.no_grad():\n",
    "        set_eval()\n",
    "\n",
    "        print(\"generate mesh (test) ...\")\n",
    "        for i in tqdm(range(start_id, end_id)):\n",
    "            if i >= len(test_dataset):\n",
    "                break\n",
    "\n",
    "            test_data = test_dataset[i]\n",
    "            save_path = \"%s/%s/recon/result_%s_%d.obj\" % (\n",
    "                opt.results_path,\n",
    "                opt.name,\n",
    "                test_data[\"name\"],\n",
    "                opt.resolution,\n",
    "            )\n",
    "            ## prepare input\n",
    "            image_tensor_global = test_data[\"img_512\"].to(device=cuda)\n",
    "            image_tensor = test_data[\"img\"].to(device=cuda)\n",
    "            calib_tensor = test_data[\"calib\"].to(device=cuda)\n",
    "\n",
    "            ## extract image features\n",
    "            net_fine.extract_feature_global(image_tensor_global)\n",
    "            net_fine.extract_feature_local(image_tensor[:, None])\n",
    "\n",
    "            ## reconstruct with Pixel Aligned Implicit Functions \n",
    "            verts, faces, _, _ = reconstruction(\n",
    "                net_fine,\n",
    "                cuda,\n",
    "                calib_tensor,\n",
    "                opt.resolution,\n",
    "                thresh=0.5,\n",
    "                num_samples=50000,\n",
    "            )\n",
    "            save_obj_mesh(save_path, verts, faces)\n",
    "            print(f\"saved the result at {save_path}\")\n"
   ]
  },
  {
   "cell_type": "markdown",
   "metadata": {},
   "source": [
    "## Run PIFuHD\n",
    "\n",
    "### 1. Setup default arguments"
   ]
  },
  {
   "cell_type": "code",
   "execution_count": null,
   "metadata": {},
   "outputs": [],
   "source": [
    "# Setup default arguments\n",
    "resolution = 512\n",
    "input_path = \"./sample_images\"\n",
    "out_path = \"./results\"\n",
    "ckpt_path = \"./checkpoints/pifuhd.pt\""
   ]
  },
  {
   "cell_type": "markdown",
   "metadata": {},
   "source": [
    "### 2. Run"
   ]
  },
  {
   "cell_type": "code",
   "execution_count": null,
   "metadata": {},
   "outputs": [],
   "source": [
    "from lib.options import BaseOptions\n",
    "\n",
    "parser = BaseOptions()\n",
    "\n",
    "cmd = ['--dataroot', input_path, '--results_path', out_path,\\\n",
    "       '--loadSize', '1024', '--resolution', f\"{resolution}\", '--load_netMR_checkpoint_path', \\\n",
    "       ckpt_path]\n",
    "\n",
    "def run_wrapper(args=None):\n",
    "    opt = parser.parse(args)\n",
    "    run_pifuhd(opt)\n",
    "    \n",
    "run_wrapper(cmd)"
   ]
  }
 ],
 "metadata": {
  "kernelspec": {
   "display_name": "Python 3.8.13 ('pifu')",
   "language": "python",
   "name": "python3"
  },
  "language_info": {
   "codemirror_mode": {
    "name": "ipython",
    "version": 3
   },
   "file_extension": ".py",
   "mimetype": "text/x-python",
   "name": "python",
   "nbconvert_exporter": "python",
   "pygments_lexer": "ipython3",
   "version": "3.8.13"
  },
  "orig_nbformat": 4,
  "vscode": {
   "interpreter": {
    "hash": "326228891e91d5fd93c466832f4a75cd3287c369705e6ec80c02ddbe2466f41c"
   }
  }
 },
 "nbformat": 4,
 "nbformat_minor": 2
}
